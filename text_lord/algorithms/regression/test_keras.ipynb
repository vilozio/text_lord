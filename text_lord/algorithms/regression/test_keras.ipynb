{
 "cells": [
  {
   "cell_type": "code",
   "execution_count": 1,
   "metadata": {
    "collapsed": false
   },
   "outputs": [
    {
     "name": "stderr",
     "output_type": "stream",
     "text": [
      "Using Theano backend.\n"
     ]
    }
   ],
   "source": [
    "import keras\n",
    "import numpy as np\n",
    "from keras.models import Sequential\n",
    "from keras.layers import Dense, Dropout, Activation\n",
    "from keras.optimizers import SGD"
   ]
  },
  {
   "cell_type": "code",
   "execution_count": 2,
   "metadata": {
    "collapsed": false
   },
   "outputs": [
    {
     "name": "stdout",
     "output_type": "stream",
     "text": [
      "Epoch 1/20\n",
      "1000/1000 [==============================] - 0s - loss: 2.4108 - acc: 0.1000     \n",
      "Epoch 2/20\n",
      "1000/1000 [==============================] - 0s - loss: 2.3655 - acc: 0.0830     \n",
      "Epoch 3/20\n",
      "1000/1000 [==============================] - 0s - loss: 2.3599 - acc: 0.0890     \n",
      "Epoch 4/20\n",
      "1000/1000 [==============================] - 0s - loss: 2.3435 - acc: 0.0900     \n",
      "Epoch 5/20\n",
      "1000/1000 [==============================] - 0s - loss: 2.3252 - acc: 0.1000     \n",
      "Epoch 6/20\n",
      "1000/1000 [==============================] - 0s - loss: 2.3323 - acc: 0.0960     \n",
      "Epoch 7/20\n",
      "1000/1000 [==============================] - 0s - loss: 2.3105 - acc: 0.1010     \n",
      "Epoch 8/20\n",
      "1000/1000 [==============================] - 0s - loss: 2.3141 - acc: 0.0960     \n",
      "Epoch 9/20\n",
      "1000/1000 [==============================] - 0s - loss: 2.3111 - acc: 0.1230     \n",
      "Epoch 10/20\n",
      "1000/1000 [==============================] - 0s - loss: 2.3025 - acc: 0.1190     \n",
      "Epoch 11/20\n",
      "1000/1000 [==============================] - 0s - loss: 2.3158 - acc: 0.1010     \n",
      "Epoch 12/20\n",
      "1000/1000 [==============================] - 0s - loss: 2.3103 - acc: 0.0970     \n",
      "Epoch 13/20\n",
      "1000/1000 [==============================] - 0s - loss: 2.3026 - acc: 0.1060     \n",
      "Epoch 14/20\n",
      "1000/1000 [==============================] - 0s - loss: 2.3048 - acc: 0.1140     \n",
      "Epoch 15/20\n",
      "1000/1000 [==============================] - 0s - loss: 2.2998 - acc: 0.1100     \n",
      "Epoch 16/20\n",
      "1000/1000 [==============================] - 0s - loss: 2.3014 - acc: 0.1110     \n",
      "Epoch 17/20\n",
      "1000/1000 [==============================] - 0s - loss: 2.3008 - acc: 0.1090     \n",
      "Epoch 18/20\n",
      "1000/1000 [==============================] - 0s - loss: 2.3027 - acc: 0.1040     \n",
      "Epoch 19/20\n",
      "1000/1000 [==============================] - 0s - loss: 2.2996 - acc: 0.1180     \n",
      "Epoch 20/20\n",
      "1000/1000 [==============================] - 0s - loss: 2.3001 - acc: 0.1030     \n",
      "100/100 [==============================] - 0s\n"
     ]
    }
   ],
   "source": [
    "# Generate dummy data\n",
    "x_train = np.random.random((1000, 20))\n",
    "y_train = keras.utils.to_categorical(\n",
    "    np.random.randint(10, size=(1000, 1)),\n",
    "    num_classes=10)\n",
    "x_test = np.random.random((100, 20))\n",
    "y_test = keras.utils.to_categorical(\n",
    "    np.random.randint(10, size=(100, 1)),\n",
    "    num_classes=10)\n",
    "\n",
    "model = Sequential()\n",
    "# Dense(64) is a fully-connected layer with 64 hidden units.\n",
    "# in the first layer, you must specify the expected input data shape:\n",
    "# here, 20-dimensional vectors.\n",
    "model.add(Dense(64, activation='relu', input_dim=20))\n",
    "model.add(Dropout(0.5))\n",
    "model.add(Dense(64, activation='relu'))\n",
    "model.add(Dropout(0.5))\n",
    "model.add(Dense(10, activation='softmax'))\n",
    "\n",
    "sgd = SGD(lr=0.01, decay=1e-6, momentum=0.9, nesterov=True)\n",
    "model.compile(loss='categorical_crossentropy',\n",
    "              optimizer=sgd,\n",
    "              metrics=['accuracy'])\n",
    "\n",
    "model.fit(x_train, y_train,\n",
    "          epochs=20,\n",
    "          batch_size=128)\n",
    "score = model.evaluate(x_test, y_test, batch_size=128)"
   ]
  },
  {
   "cell_type": "code",
   "execution_count": null,
   "metadata": {
    "collapsed": true
   },
   "outputs": [],
   "source": [
    ""
   ]
  }
 ],
 "metadata": {
  "kernelspec": {
   "display_name": "Python [conda env:datamining]",
   "language": "python",
   "name": "conda-env-datamining-py"
  },
  "language_info": {
   "codemirror_mode": {
    "name": "ipython",
    "version": 3.0
   },
   "file_extension": ".py",
   "mimetype": "text/x-python",
   "name": "python",
   "nbconvert_exporter": "python",
   "pygments_lexer": "ipython3",
   "version": "3.5.2"
  }
 },
 "nbformat": 4,
 "nbformat_minor": 0
}